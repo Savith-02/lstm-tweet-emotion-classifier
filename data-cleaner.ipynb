{
 "cells": [
  {
   "cell_type": "code",
   "execution_count": 1,
   "metadata": {},
   "outputs": [],
   "source": [
    "import numpy as np\n",
    "import re\n",
    "import pandas as pd\n",
    "import matplotlib.pyplot as plt"
   ]
  },
  {
   "cell_type": "code",
   "execution_count": 2,
   "metadata": {},
   "outputs": [
    {
     "name": "stdout",
     "output_type": "stream",
     "text": [
      "    sentiment                                            content\n",
      "0       empty  @tiffanylue i know  i was listenin to bad habi...\n",
      "1     sadness  Layin n bed with a headache  ughhhh...waitin o...\n",
      "2     sadness                Funeral ceremony...gloomy friday...\n",
      "3  enthusiasm               wants to hang out with friends SOON!\n",
      "4     neutral  @dannycastillo We want to trade with someone w...\n"
     ]
    }
   ],
   "source": [
    "df = pd.read_csv('tweet_emotions.csv')\n",
    "print(df.head(5))"
   ]
  },
  {
   "cell_type": "code",
   "execution_count": 3,
   "metadata": {},
   "outputs": [],
   "source": [
    "def replace_and_lower(sentence):\n",
    "    sentence = sentence.lower()\n",
    "    sentence = re.sub(r'@\\w+', '', sentence)\n",
    "    sentence = re.sub(r'(.)\\1{2,}', r'\\1\\1', sentence)\n",
    "    sentence = sentence.replace(\"`\", \"'\")\n",
    "    sentence = sentence.replace(\"i'm\", \"i am\")\n",
    "    sentence = sentence.replace(\"i'd\", \"i would\")\n",
    "    sentence = sentence.replace(\"'ll\", \" will\")\n",
    "    sentence = sentence.replace(\"n't\", \" not\")\n",
    "    sentence = sentence.replace(\"can't\", \"can not\")\n",
    "    sentence = sentence.replace(\"won't\", \"will not\")\n",
    "    sentence = sentence.replace(\"'re\", \" are\")\n",
    "    sentence = sentence.replace(\"'s\", \" is\")\n",
    "    return sentence"
   ]
  },
  {
   "cell_type": "code",
   "execution_count": 4,
   "metadata": {},
   "outputs": [],
   "source": [
    "top_six_classes = df[\"sentiment\"].value_counts().nlargest(6).index\n",
    "df_filtered = df[df[\"sentiment\"].isin(top_six_classes)]\n",
    "df_filtered_processed = df_filtered.copy()"
   ]
  },
  {
   "cell_type": "code",
   "execution_count": 5,
   "metadata": {},
   "outputs": [],
   "source": [
    "df_filtered_processed[\"content\"] = df_filtered[\"content\"].apply(replace_and_lower)\n",
    "\n",
    "pattern = r'^[a-zA-Z0-9\\s\\.,!?]*$'\n",
    "df_filtered_processed = df_filtered_processed[df_filtered_processed[\"content\"].apply(\n",
    "    lambda x: bool(re.match(pattern, x)))]"
   ]
  },
  {
   "cell_type": "code",
   "execution_count": 6,
   "metadata": {},
   "outputs": [
    {
     "data": {
      "text/html": [
       "<div>\n",
       "<style scoped>\n",
       "    .dataframe tbody tr th:only-of-type {\n",
       "        vertical-align: middle;\n",
       "    }\n",
       "\n",
       "    .dataframe tbody tr th {\n",
       "        vertical-align: top;\n",
       "    }\n",
       "\n",
       "    .dataframe thead th {\n",
       "        text-align: right;\n",
       "    }\n",
       "</style>\n",
       "<table border=\"1\" class=\"dataframe\">\n",
       "  <thead>\n",
       "    <tr style=\"text-align: right;\">\n",
       "      <th></th>\n",
       "      <th>sentiment</th>\n",
       "      <th>content</th>\n",
       "    </tr>\n",
       "  </thead>\n",
       "  <tbody>\n",
       "    <tr>\n",
       "      <th>1</th>\n",
       "      <td>sadness</td>\n",
       "      <td>layin n bed with a headache  ughh..waitin on y...</td>\n",
       "    </tr>\n",
       "    <tr>\n",
       "      <th>2</th>\n",
       "      <td>sadness</td>\n",
       "      <td>funeral ceremony..gloomy friday..</td>\n",
       "    </tr>\n",
       "    <tr>\n",
       "      <th>4</th>\n",
       "      <td>neutral</td>\n",
       "      <td>we want to trade with someone who has houston...</td>\n",
       "    </tr>\n",
       "    <tr>\n",
       "      <th>8</th>\n",
       "      <td>sadness</td>\n",
       "      <td>charlene my love. i miss you</td>\n",
       "    </tr>\n",
       "    <tr>\n",
       "      <th>9</th>\n",
       "      <td>sadness</td>\n",
       "      <td>i am sorry  at least it is friday?</td>\n",
       "    </tr>\n",
       "  </tbody>\n",
       "</table>\n",
       "</div>"
      ],
      "text/plain": [
       "  sentiment                                            content\n",
       "1   sadness  layin n bed with a headache  ughh..waitin on y...\n",
       "2   sadness                  funeral ceremony..gloomy friday..\n",
       "4   neutral   we want to trade with someone who has houston...\n",
       "8   sadness                       charlene my love. i miss you\n",
       "9   sadness                 i am sorry  at least it is friday?"
      ]
     },
     "execution_count": 6,
     "metadata": {},
     "output_type": "execute_result"
    }
   ],
   "source": [
    "df_filtered_processed.head(5)"
   ]
  },
  {
   "cell_type": "code",
   "execution_count": 7,
   "metadata": {},
   "outputs": [
    {
     "name": "stdout",
     "output_type": "stream",
     "text": [
      "144\n"
     ]
    }
   ],
   "source": [
    "# Determine the maximum sequence length\n",
    "max_len = df_filtered_processed[\"content\"].apply(len).max()\n",
    "print(max_len)"
   ]
  },
  {
   "cell_type": "code",
   "execution_count": 8,
   "metadata": {},
   "outputs": [
    {
     "name": "stdout",
     "output_type": "stream",
     "text": [
      "sentiment                                              sadness\n",
      "content      there is nothing to do right now and i am tire...\n",
      "Name: 1021, dtype: object\n"
     ]
    }
   ],
   "source": [
    "max_len_index = df_filtered_processed[\"content\"].apply(len).idxmax()\n",
    "# Get the row with the maximum length\n",
    "max_len_row = df_filtered_processed.loc[max_len_index]\n",
    "print(max_len_row)"
   ]
  },
  {
   "cell_type": "code",
   "execution_count": 9,
   "metadata": {},
   "outputs": [],
   "source": [
    "df_filtered_processed.to_csv('processed.csv', index=False)"
   ]
  },
  {
   "cell_type": "code",
   "execution_count": null,
   "metadata": {},
   "outputs": [],
   "source": []
  }
 ],
 "metadata": {
  "kernelspec": {
   "display_name": "Python 3",
   "language": "python",
   "name": "python3"
  },
  "language_info": {
   "codemirror_mode": {
    "name": "ipython",
    "version": 3
   },
   "file_extension": ".py",
   "mimetype": "text/x-python",
   "name": "python",
   "nbconvert_exporter": "python",
   "pygments_lexer": "ipython3",
   "version": "3.12.1"
  }
 },
 "nbformat": 4,
 "nbformat_minor": 2
}
